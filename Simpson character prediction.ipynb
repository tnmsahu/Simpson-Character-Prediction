{
 "cells": [
  {
   "cell_type": "code",
   "execution_count": 1,
   "metadata": {},
   "outputs": [
    {
     "name": "stderr",
     "output_type": "stream",
     "text": [
      "Using TensorFlow backend.\n"
     ]
    }
   ],
   "source": [
    "import numpy as np\n",
    "import pandas as pd\n",
    "import PIL.Image\n",
    "from keras.models import Sequential\n",
    "from keras.layers import Conv2D, MaxPooling2D, Flatten, Dense\n",
    "from keras.preprocessing.image import ImageDataGenerator\n",
    "from keras.preprocessing import image\n",
    "import numpy as np\n",
    "import pandas as pd\n",
    "from keras.models import model_from_json\n",
    "from keras.preprocessing import image\n",
    "import matplotlib.pyplot as plt\n",
    "import matplotlib.image as mpimg\n",
    "import numpy as np\n",
    "%matplotlib inline"
   ]
  },
  {
   "cell_type": "code",
   "execution_count": 2,
   "metadata": {},
   "outputs": [
    {
     "name": "stdout",
     "output_type": "stream",
     "text": [
      "WARNING:tensorflow:From /home/tnmsahu/anaconda3/envs/tf/lib/python3.7/site-packages/tensorflow/python/framework/op_def_library.py:263: colocate_with (from tensorflow.python.framework.ops) is deprecated and will be removed in a future version.\n",
      "Instructions for updating:\n",
      "Colocations handled automatically by placer.\n"
     ]
    }
   ],
   "source": [
    "model = Sequential() \n",
    "model.add(Conv2D(32, (3, 3), input_shape = (64, 64, 3), activation = 'relu')) #3 is for type of image\n",
    "model.add(MaxPooling2D(pool_size = (2, 2))) \n",
    "\n",
    "model.add(Conv2D(64, (3, 3), activation = 'relu')) \n",
    "model.add(MaxPooling2D(pool_size = (2, 2)))\n",
    "\n",
    "model.add(Conv2D(128, (3, 3), activation = 'relu')) \n",
    "model.add(MaxPooling2D(pool_size = (2, 2)))\n",
    "\n",
    "model.add(Flatten()) "
   ]
  },
  {
   "cell_type": "code",
   "execution_count": 3,
   "metadata": {},
   "outputs": [],
   "source": [
    "model.add(Dense(units = 64, activation = 'relu')) \n",
    "model.add(Dense(units = 20, activation = 'softmax')) \n",
    "\n",
    "model.compile(optimizer = 'adam', loss = 'categorical_crossentropy', metrics = ['accuracy']) "
   ]
  },
  {
   "cell_type": "code",
   "execution_count": 4,
   "metadata": {},
   "outputs": [],
   "source": [
    "data_train = ImageDataGenerator(rescale = 1./255,\n",
    "                                         rotation_range = 7, \n",
    "                                         horizontal_flip = True,\n",
    "                                         shear_range=0.2,\n",
    "                                         height_shift_range=0.07,\n",
    "                                         zoom_range=0.2) \n",
    "\n",
    "data_test = ImageDataGenerator(rescale = 1./255) "
   ]
  },
  {
   "cell_type": "code",
   "execution_count": 5,
   "metadata": {},
   "outputs": [
    {
     "name": "stdout",
     "output_type": "stream",
     "text": [
      "Found 18553 images belonging to 20 classes.\n",
      "Found 990 images belonging to 20 classes.\n"
     ]
    }
   ],
   "source": [
    "base_train = data_train.flow_from_directory('/home/tnmsahu/Downloads/simpson_train_set',\n",
    "                                            target_size = (64, 64),\n",
    "                                            batch_size = 30,\n",
    "                                            class_mode = 'categorical') \n",
    "\n",
    "base_test = data_test.flow_from_directory('/home/tnmsahu/Downloads/simpson_testset',\n",
    "                                          target_size = (64, 64),\n",
    "                                          batch_size = 30,\n",
    "                                          class_mode = 'categorical') \n"
   ]
  },
  {
   "cell_type": "code",
   "execution_count": 9,
   "metadata": {},
   "outputs": [
    {
     "name": "stdout",
     "output_type": "stream",
     "text": [
      "Epoch 1/13\n",
      "30/30 [==============================] - 4s 150ms/step - loss: 1.3912 - acc: 0.5789 - val_loss: 1.1900 - val_acc: 0.6556\n",
      "Epoch 2/13\n",
      "30/30 [==============================] - 4s 149ms/step - loss: 1.3940 - acc: 0.5733 - val_loss: 1.3721 - val_acc: 0.5444\n",
      "Epoch 3/13\n",
      "30/30 [==============================] - 4s 137ms/step - loss: 1.4005 - acc: 0.5789 - val_loss: 1.8014 - val_acc: 0.4333\n",
      "Epoch 4/13\n",
      "30/30 [==============================] - 4s 141ms/step - loss: 1.3805 - acc: 0.5967 - val_loss: 1.4115 - val_acc: 0.5222\n",
      "Epoch 5/13\n",
      "30/30 [==============================] - 4s 140ms/step - loss: 1.3454 - acc: 0.5944 - val_loss: 1.3417 - val_acc: 0.5667\n",
      "Epoch 6/13\n",
      "30/30 [==============================] - 4s 139ms/step - loss: 1.3772 - acc: 0.5789 - val_loss: 1.3847 - val_acc: 0.6556\n",
      "Epoch 7/13\n",
      "30/30 [==============================] - 4s 139ms/step - loss: 1.2894 - acc: 0.6033 - val_loss: 1.1926 - val_acc: 0.6667\n",
      "Epoch 8/13\n",
      "30/30 [==============================] - 5s 151ms/step - loss: 1.2044 - acc: 0.6467 - val_loss: 1.2817 - val_acc: 0.5778\n",
      "Epoch 9/13\n",
      "30/30 [==============================] - 4s 140ms/step - loss: 1.2699 - acc: 0.6278 - val_loss: 1.6193 - val_acc: 0.5333\n",
      "Epoch 10/13\n",
      "30/30 [==============================] - 4s 129ms/step - loss: 1.2605 - acc: 0.6467 - val_loss: 1.1956 - val_acc: 0.6333\n",
      "Epoch 11/13\n",
      "30/30 [==============================] - 4s 134ms/step - loss: 1.3389 - acc: 0.5911 - val_loss: 1.3081 - val_acc: 0.5889\n",
      "Epoch 12/13\n",
      "30/30 [==============================] - 4s 139ms/step - loss: 1.3473 - acc: 0.6033 - val_loss: 1.1831 - val_acc: 0.6444\n",
      "Epoch 13/13\n",
      "30/30 [==============================] - 4s 135ms/step - loss: 1.2802 - acc: 0.6044 - val_loss: 1.1956 - val_acc: 0.6444\n"
     ]
    },
    {
     "data": {
      "text/plain": [
       "<keras.callbacks.History at 0x7fbb347cb5c0>"
      ]
     },
     "execution_count": 9,
     "metadata": {},
     "output_type": "execute_result"
    }
   ],
   "source": [
    "model.fit_generator(base_train,\n",
    "                    steps_per_epoch = 30,\n",
    "                    epochs = 13,\n",
    "                    validation_data = base_test,\n",
    "                    validation_steps = 3)"
   ]
  },
  {
   "cell_type": "code",
   "execution_count": 6,
   "metadata": {},
   "outputs": [
    {
     "name": "stdout",
     "output_type": "stream",
     "text": [
      "[2.82782540e-31 3.94786196e-34 1.04311417e-20 9.09473774e-20\n",
      " 4.97885067e-12 1.59363459e-32 9.63473888e-33 0.00000000e+00\n",
      " 3.35491279e-08 4.12309701e-19 0.00000000e+00 4.51091120e-09\n",
      " 0.00000000e+00 1.51274575e-27 1.78635681e-35 3.73273771e-23\n",
      " 0.00000000e+00 9.82777596e-01 1.72224268e-02 6.44870026e-25]\n"
     ]
    }
   ],
   "source": [
    "result = []\n",
    "\n",
    "test_image = image.load_img('/home/tnmsahu/Downloads/simpson_train_set/abraham_grampa_simpson/pic_video1_24.jpg', target_size=(64, 64))\n",
    "test_image = image.img_to_array(test_image)\n",
    "test_image = np.expand_dims(test_image, axis=0)\n",
    "\n",
    "pred = model.predict_on_batch(test_image)\n",
    "result.append(pred)\n",
    "\n",
    "result = np.asarray(result)\n",
    "imprime = np.array(result[0][0])\n",
    "print(imprime)"
   ]
  },
  {
   "cell_type": "code",
   "execution_count": 7,
   "metadata": {},
   "outputs": [],
   "source": [
    "model_json=model.to_json()"
   ]
  },
  {
   "cell_type": "code",
   "execution_count": 8,
   "metadata": {},
   "outputs": [],
   "source": [
    "with open('model_json.json', 'w') as json_file:\n",
    "    json_file.write(model_json)"
   ]
  },
  {
   "cell_type": "code",
   "execution_count": 9,
   "metadata": {},
   "outputs": [],
   "source": [
    "model.save_weights('model_simpsons.h5')"
   ]
  },
  {
   "cell_type": "code",
   "execution_count": 10,
   "metadata": {},
   "outputs": [],
   "source": [
    "ar= open('model_json.json', 'r')\n",
    "struct = ar.read()\n",
    "ar.close()"
   ]
  },
  {
   "cell_type": "code",
   "execution_count": 11,
   "metadata": {},
   "outputs": [],
   "source": [
    "model = model_from_json(struct)\n",
    "model.load_weights('model_simpsons.h5')\n",
    "result = []"
   ]
  },
  {
   "cell_type": "code",
   "execution_count": 28,
   "metadata": {},
   "outputs": [
    {
     "data": {
      "text/html": [
       "<div>\n",
       "<style scoped>\n",
       "    .dataframe tbody tr th:only-of-type {\n",
       "        vertical-align: middle;\n",
       "    }\n",
       "\n",
       "    .dataframe tbody tr th {\n",
       "        vertical-align: top;\n",
       "    }\n",
       "\n",
       "    .dataframe thead th {\n",
       "        text-align: right;\n",
       "    }\n",
       "</style>\n",
       "<table border=\"1\" class=\"dataframe\">\n",
       "  <thead>\n",
       "    <tr style=\"text-align: right;\">\n",
       "      <th></th>\n",
       "      <th>name</th>\n",
       "    </tr>\n",
       "  </thead>\n",
       "  <tbody>\n",
       "    <tr>\n",
       "      <th>0</th>\n",
       "      <td>Abraham Grampa Simpson</td>\n",
       "    </tr>\n",
       "    <tr>\n",
       "      <th>1</th>\n",
       "      <td>Apu Nahasapeemapetilon</td>\n",
       "    </tr>\n",
       "    <tr>\n",
       "      <th>2</th>\n",
       "      <td>Barney Gumble</td>\n",
       "    </tr>\n",
       "    <tr>\n",
       "      <th>3</th>\n",
       "      <td>Bart Simpson</td>\n",
       "    </tr>\n",
       "    <tr>\n",
       "      <th>4</th>\n",
       "      <td>Carl Carlson</td>\n",
       "    </tr>\n",
       "  </tbody>\n",
       "</table>\n",
       "</div>"
      ],
      "text/plain": [
       "                     name\n",
       "0  Abraham Grampa Simpson\n",
       "1  Apu Nahasapeemapetilon\n",
       "2           Barney Gumble\n",
       "3            Bart Simpson\n",
       "4            Carl Carlson"
      ]
     },
     "execution_count": 28,
     "metadata": {},
     "output_type": "execute_result"
    }
   ],
   "source": [
    "person = pd.read_csv('number_pic_char.csv', index_col = 0)\n",
    "person.sort_values(by=['name'], inplace=True)\n",
    "person.drop(['total', 'train', 'test', 'bounding_box',], axis = 1, inplace=True)\n",
    "person.reset_index(drop = True, inplace=True)\n",
    "person.drop([1, 5, 9, 11, 13, 14,\n",
    "                  16, 17, 19, 20, 24,\n",
    "                  31, 35, 39, 43, 44,\n",
    "                  45], inplace=True)\n",
    "person.reset_index(drop = True, inplace=True)\n",
    "person.head()"
   ]
  },
  {
   "cell_type": "code",
   "execution_count": 29,
   "metadata": {},
   "outputs": [],
   "source": [
    "imagem='/home/tnmsahu/Downloads/simpson_testset/bart_simpson/bart_simpson_1.jpg'"
   ]
  },
  {
   "cell_type": "code",
   "execution_count": 30,
   "metadata": {},
   "outputs": [
    {
     "data": {
      "text/plain": [
       "array([0., 0., 0., 1., 0., 0., 0., 0., 0., 0., 0., 0., 0., 0., 0., 0., 0.,\n",
       "       0., 0., 0.], dtype=float32)"
      ]
     },
     "execution_count": 30,
     "metadata": {},
     "output_type": "execute_result"
    }
   ],
   "source": [
    "result = []\n",
    "\n",
    "test_image = image.load_img(imagem, target_size=(64, 64))\n",
    "test_image = image.img_to_array(test_image)\n",
    "test_image = np.expand_dims(test_image, axis=0)\n",
    "\n",
    "pred = model.predict_on_batch(test_image)\n",
    "result.append(pred)\n",
    "\n",
    "result = np.asarray(result)\n",
    "imprime = np.array(result[0][0])\n",
    "imprime"
   ]
  },
  {
   "cell_type": "code",
   "execution_count": 34,
   "metadata": {},
   "outputs": [
    {
     "name": "stdout",
     "output_type": "stream",
     "text": [
      "the predicted character Bart Simpson\n"
     ]
    },
    {
     "data": {
      "image/png": "[encoded data removed]",
      "text/plain": [
       "<Figure size 432x288 with 1 Axes>"
      ]
     },
     "metadata": {
      "needs_background": "light"
     },
     "output_type": "display_data"
    }
   ],
   "source": [
    "result_final  = imprime.argmax()\n",
    "imagem = '/home/tnmsahu/Downloads/simpson_testset/bart_simpson/bart_simpson_1.jpg'\n",
    "imagem = mpimg.imread(imagem)\n",
    "plt.imshow(imagem)\n",
    "print('the predicted character '+person.loc[result_final][0])"
   ]
  },
  {
   "cell_type": "code",
   "execution_count": null,
   "metadata": {},
   "outputs": [],
   "source": []
  },
  {
   "cell_type": "code",
   "execution_count": null,
   "metadata": {},
   "outputs": [],
   "source": []
  }
 ],
 "metadata": {
  "kernelspec": {
   "display_name": "Python 3",
   "language": "python",
   "name": "python3"
  },
  "language_info": {
   "codemirror_mode": {
    "name": "ipython",
    "version": 3
   },
   "file_extension": ".py",
   "mimetype": "text/x-python",
   "name": "python",
   "nbconvert_exporter": "python",
   "pygments_lexer": "ipython3",
   "version": "3.7.3"
  }
 },
 "nbformat": 4,
 "nbformat_minor": 2
}
